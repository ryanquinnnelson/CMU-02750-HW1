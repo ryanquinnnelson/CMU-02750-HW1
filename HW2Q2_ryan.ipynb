{
 "cells": [
  {
   "cell_type": "markdown",
   "metadata": {},
   "source": [
    "# Question 2. IWAL algorithm implementation (50 points)"
   ]
  },
  {
   "cell_type": "markdown",
   "metadata": {},
   "source": [
    "The purpose of this question is to implement Importance Weighted Active Learning (IWAL) algorithm. For this question, you will not use modAL, but instead will implement IWAL routine from scratch using scikit-learn, NumPy and native Python. \n",
    "\n",
    "In this question, we will use a simple synthetic dataset for a binary classification problem. Each data point has only 2 features. The dataset is provided in 2 files -- “data_iwal.npy”, which contains features and “labels_iwal.npy”, which contains labels. \n",
    "\n",
    "For simplicity, you will implement bootstrapping rejection sampling subroutine with logistic regression and hinge loss.   "
   ]
  },
  {
   "cell_type": "markdown",
   "metadata": {},
   "source": [
    "𝐂𝐨𝐦𝐩𝐥𝐞𝐭𝐞 𝐭𝐡𝐞 𝐜𝐨𝐝𝐞 𝐮𝐧𝐝𝐞𝐫 ###𝐓𝐎 𝐃𝐎 𝐢𝐧 𝐞𝐚𝐜𝐡 𝐜𝐞𝐥𝐥 𝐚𝐧𝐝 𝐩𝐫𝐨𝐝𝐮𝐜𝐞 𝐭𝐡𝐞 𝐫𝐞𝐪𝐮𝐢𝐫𝐞𝐝 𝐩𝐥𝐨𝐭𝐬.  Feel free to define any helper functions as you see fit. You may import and use any modules in scikit-learn and NumPy to help with your implementations."
   ]
  },
  {
   "cell_type": "markdown",
   "metadata": {},
   "source": [
    "## Imports"
   ]
  },
  {
   "cell_type": "markdown",
   "metadata": {},
   "source": [
    "Here we import necessary modules. Feel free to add something else here if you need it!"
   ]
  },
  {
   "cell_type": "code",
   "execution_count": 1,
   "metadata": {},
   "outputs": [],
   "source": [
    "import matplotlib.pyplot as plt\n",
    "%matplotlib inline\n",
    "\n",
    "import numpy as np\n",
    "from sklearn.model_selection import train_test_split\n",
    "from sklearn.metrics import hinge_loss, log_loss\n",
    "from sklearn.linear_model import LogisticRegression"
   ]
  },
  {
   "cell_type": "markdown",
   "metadata": {},
   "source": [
    "## Reading data"
   ]
  },
  {
   "cell_type": "markdown",
   "metadata": {},
   "source": [
    "Here we read the data and split it into train and test datasets. Train will be used to train our classification model and test will be used to validate the performance, monitor overfitting and compare the results of the model trained with Active Learning with the ones of the model trained from scratch. We set aside 1/3 of the dataset for validation."
   ]
  },
  {
   "cell_type": "code",
   "execution_count": 2,
   "metadata": {},
   "outputs": [],
   "source": [
    "X = np.load(\"data/q2/data_iwal.npy\")\n",
    "y = np.load(\"data/q2/labels_iwal.npy\")"
   ]
  },
  {
   "cell_type": "code",
   "execution_count": 3,
   "metadata": {},
   "outputs": [],
   "source": [
    "X_train, X_test, y_train, y_test = train_test_split(X, y, test_size=0.33, random_state=42)"
   ]
  },
  {
   "cell_type": "code",
   "execution_count": 4,
   "metadata": {},
   "outputs": [
    {
     "name": "stdout",
     "output_type": "stream",
     "text": [
      "(134, 2)\n",
      "(134,)\n",
      "(66, 2)\n",
      "(66,)\n",
      "[[2.59193175 1.14706863]\n",
      " [1.7756532  1.15670278]]\n",
      "[1 1]\n"
     ]
    }
   ],
   "source": [
    "print(X_train.shape)\n",
    "print(y_train.shape)\n",
    "print(X_test.shape)\n",
    "print(y_test.shape)\n",
    "\n",
    "print(X[0:2])\n",
    "print(y[0:2])"
   ]
  },
  {
   "cell_type": "markdown",
   "metadata": {},
   "source": [
    "## Part 2.1\n",
    "Type your answers for the theoretical questions below."
   ]
  },
  {
   "cell_type": "markdown",
   "metadata": {},
   "source": [
    "1. What is the idea behind IWAL algorithm?\n",
    "\n",
    "**Your answer goes here**\n",
    "\n",
    "2. What are the assumptions made for the IWAL algorithm?\n",
    "\n",
    "**Your answer goes here**\n",
    "\n",
    "3. What are the pros and cons of IWAL algorithm?\n",
    "\n",
    "**Your answer goes here**"
   ]
  },
  {
   "cell_type": "markdown",
   "metadata": {},
   "source": [
    "## Part 2.2 Implement IWAL algorithm"
   ]
  },
  {
   "cell_type": "markdown",
   "metadata": {},
   "source": [
    "In this part you will implement a function that performs a single query of Algorithm 1 IWAL (subroutine rejection-sampling) from the paper. Below is the function description that you can follow in your implementation."
   ]
  },
  {
   "cell_type": "markdown",
   "metadata": {},
   "source": [
    "### Implemented Equations\n",
    "\n",
    "$h_t = \\underset{h \\in H}{argmin}\\sum_{(x,y,c)\\in S_t}c \\cdot l(h(x),y)$"
   ]
  },
  {
   "cell_type": "code",
   "execution_count": 5,
   "metadata": {},
   "outputs": [],
   "source": [
    "# implemented in custom Python package iwal_functions"
   ]
  },
  {
   "cell_type": "markdown",
   "metadata": {},
   "source": [
    "## Part 2.3 Implement bootstrapping rejection sampling subroutine\n",
    "In this part you will implement bootstrapping rejection sampling subroutine from the paper, section 7.2"
   ]
  },
  {
   "cell_type": "markdown",
   "metadata": {},
   "source": [
    "### Implemented Equations\n",
    "$p_t = p_{min}+(1-p_{min})[\\underset{y;h_i,h_j \\in H}{max}L(h_i(x),y)-L(h_j(x),y)]$\n",
    "\n",
    "where $p_{min}$ is a lower bound on the sampling probability"
   ]
  },
  {
   "cell_type": "code",
   "execution_count": 6,
   "metadata": {},
   "outputs": [],
   "source": [
    "# implemented in custom Python package iwal_functions"
   ]
  },
  {
   "cell_type": "markdown",
   "metadata": {},
   "source": [
    "## Part 2.4 Organize all implemented parts into a single pipeline\n",
    "You implemented all parts of the IWAL algorithm with bootstrap rejection sampling. Now organize it into a pipeline."
   ]
  },
  {
   "cell_type": "code",
   "execution_count": 7,
   "metadata": {},
   "outputs": [],
   "source": [
    "def select_n_random(X,y,n):\n",
    "    index = np.random.choice(X.shape[0], n, replace=True)\n",
    "    return X[index],y[index]"
   ]
  },
  {
   "cell_type": "code",
   "execution_count": 20,
   "metadata": {},
   "outputs": [],
   "source": [
    "#?? isn't initializing H creating n_h classifiers?\n",
    "#?? initialize history means to simply set up the empty dictionary?\n",
    "#?? need to fit models first? what data do I use?\n",
    "#?? don't understand bootstrapped data here? remove the bootstrapped data from our pool/stream for future queries?\n",
    "#?? which loss function to use here? why is log_loss also imported?\n",
    "#?? data sampled with replacement? I thought we are using the first 10 recoreds as bootstrapped?\n",
    "#?? train each model on different set of training data?\n",
    "#?? what do we use initial training set for? if we use on all models, all models will have the same behavior...\n",
    "#?? where are we supposed to retrain the model, with new data?\n",
    "#?? all LR models are predicting exactly the same result\n",
    "#?? how to choose samples? start from beginning?\n",
    "\n",
    "# create an initial training set\n",
    "n_initial = 10\n",
    "X_training, y_training = X_train[:n_initial], y_train[:n_initial]\n",
    "\n",
    "\n",
    "# Initialize history and H\n",
    "## TODO: your code here\n",
    "\n",
    "\n",
    "# Create n_h classifiers and train them on bootstrapped data (data is sampled with replacement)\n",
    "## TODO: your code goes here\n",
    "H = []\n",
    "n_h = 10\n",
    "for i in range(n_h):\n",
    "    \n",
    "    # select random training set\n",
    "    X_rand, y_rand = select_n_random(X_train, y_train, 10)\n",
    "    \n",
    "    # train model\n",
    "    lr = LogisticRegression()\n",
    "    lr.fit(X_rand, y_rand)\n",
    "    H.append(lr)\n",
    "\n",
    "    \n",
    "# initialize additional arguments\n",
    "loss_function = 'hinge_loss'\n",
    "labels = [0,1]\n",
    "p_min = 0.1  "
   ]
  },
  {
   "cell_type": "code",
   "execution_count": 22,
   "metadata": {
    "scrolled": false
   },
   "outputs": [
    {
     "name": "stdout",
     "output_type": "stream",
     "text": [
      "CPU times: user 8.62 s, sys: 44.2 ms, total: 8.66 s\n",
      "Wall time: 8.71 s\n"
     ]
    }
   ],
   "source": [
    "%%time\n",
    "\n",
    "# my custom package\n",
    "from packages.iwal import iwal_functions\n",
    "\n",
    "history = {'X': [],'y': [],'c': [],'Q': []}\n",
    "selected = []\n",
    "\n",
    "# Perform queries and record loss\n",
    "losses = []\n",
    "n_query = 50\n",
    "for t in range(n_query):\n",
    "    \n",
    "    ### TODO: your code goes here\n",
    "    # select sample \n",
    "    x_t, y_t = select_n_random(X_train, y_train, 1)\n",
    "#     print(x_t.shape)\n",
    "#     print(y_t.shape)\n",
    "#     print(x_t)\n",
    "#     print(y_t)\n",
    "#     print(type(y_t))\n",
    "    \n",
    "#     predict = None\n",
    "#     for each in H:\n",
    "#         a = each.predict(x_t)\n",
    "        \n",
    "#         if not predict:\n",
    "#             predict = a\n",
    "#         else:\n",
    "#             if a != predict:\n",
    "#                 print('Found a difference!')\n",
    "#                 print(predict)\n",
    "#                 print(a)\n",
    "#                 print(x_t)\n",
    "#                 print(y_t)\n",
    "    \n",
    "    \n",
    "    # select optimal hypothesis\n",
    "    h_t = iwal_functions.iwal_query_bootstrap(x_t,y_t,H,history,selected,labels,loss_function,p_min)\n",
    "#     print(h_t.coef_)\n",
    "#     print(h_t.intercept_)\n",
    "    # calculate loss and store for later\n",
    "    loss_t = log_loss(y_test, h_t.predict_proba(X_test)) \n",
    "    losses.append(loss_t)\n",
    "     "
   ]
  },
  {
   "cell_type": "code",
   "execution_count": 23,
   "metadata": {},
   "outputs": [
    {
     "data": {
      "text/plain": [
       "[0.1267449738773306,\n",
       " 0.1267449738773306,\n",
       " 0.1267449738773306,\n",
       " 0.1267449738773306,\n",
       " 0.1267449738773306,\n",
       " 0.1267449738773306,\n",
       " 0.1267449738773306,\n",
       " 0.1267449738773306,\n",
       " 0.1267449738773306,\n",
       " 0.1267449738773306,\n",
       " 0.1267449738773306,\n",
       " 0.1267449738773306,\n",
       " 0.1267449738773306,\n",
       " 0.1267449738773306,\n",
       " 0.1267449738773306,\n",
       " 0.1267449738773306,\n",
       " 0.1267449738773306,\n",
       " 0.1267449738773306,\n",
       " 0.1267449738773306,\n",
       " 0.1267449738773306,\n",
       " 0.1267449738773306,\n",
       " 0.1267449738773306,\n",
       " 0.1267449738773306,\n",
       " 0.1267449738773306,\n",
       " 0.1267449738773306,\n",
       " 0.1267449738773306,\n",
       " 0.1267449738773306,\n",
       " 0.1267449738773306,\n",
       " 0.1267449738773306,\n",
       " 0.1267449738773306,\n",
       " 0.1267449738773306,\n",
       " 0.1267449738773306,\n",
       " 0.1267449738773306,\n",
       " 0.1267449738773306,\n",
       " 0.1267449738773306,\n",
       " 0.1267449738773306,\n",
       " 0.1267449738773306,\n",
       " 0.1267449738773306,\n",
       " 0.1267449738773306,\n",
       " 0.1267449738773306,\n",
       " 0.1267449738773306,\n",
       " 0.1267449738773306,\n",
       " 0.1267449738773306,\n",
       " 0.1267449738773306,\n",
       " 0.1267449738773306,\n",
       " 0.1267449738773306,\n",
       " 0.1267449738773306,\n",
       " 0.1267449738773306,\n",
       " 0.1267449738773306,\n",
       " 0.1267449738773306]"
      ]
     },
     "execution_count": 23,
     "metadata": {},
     "output_type": "execute_result"
    }
   ],
   "source": [
    "losses"
   ]
  },
  {
   "cell_type": "code",
   "execution_count": 26,
   "metadata": {},
   "outputs": [
    {
     "name": "stdout",
     "output_type": "stream",
     "text": [
      "X: [[1.96225112 0.68921004]] y: [1] c: 1 Q: 1\n",
      "X: [[1.78585166 0.96370977]] y: [1] c: 1 Q: 1\n",
      "X: [[3.66800921 0.15565258]] y: [1] c: 1 Q: 1\n",
      "X: [[1.62087126 4.52689668]] y: [0] c: 0.1 Q: 0\n",
      "X: [[1.02283213 4.51551766]] y: [0] c: 0.1 Q: 0\n",
      "X: [[2.29447557 3.36035598]] y: [0] c: 1 Q: 1\n",
      "X: [[0.53117782 4.77729063]] y: [0] c: 0.1 Q: 0\n",
      "X: [[0.63378839 2.34280866]] y: [1] c: 1 Q: 1\n",
      "X: [[0.94721064 1.32492923]] y: [1] c: 1 Q: 1\n",
      "X: [[0.72847434 3.34132142]] y: [0] c: 0.5473438425346663 Q: 1\n",
      "X: [[1.57378119 0.04780948]] y: [1] c: 1 Q: 1\n",
      "X: [[0.98362009 5.55389667]] y: [0] c: 0.1 Q: 0\n",
      "X: [[ 3.1014067  -0.55132586]] y: [1] c: 1 Q: 1\n",
      "X: [[2.04335323 1.16306987]] y: [1] c: 1 Q: 1\n",
      "X: [[0.95654252 4.60361964]] y: [0] c: 0.1 Q: 0\n",
      "X: [[0.11846522 4.89484141]] y: [0] c: 0.1 Q: 1\n",
      "X: [[1.71950845 1.33191447]] y: [1] c: 1 Q: 1\n",
      "X: [[0.76511884 0.56308186]] y: [1] c: 1 Q: 1\n",
      "X: [[2.29447557 3.36035598]] y: [0] c: 1 Q: 1\n",
      "X: [[3.66800921 0.15565258]] y: [1] c: 1 Q: 1\n",
      "X: [[1.24511884 0.67905908]] y: [1] c: 1 Q: 1\n",
      "X: [[1.63784769 0.86086655]] y: [1] c: 1 Q: 1\n",
      "X: [[2.29447557 3.36035598]] y: [0] c: 1 Q: 1\n",
      "X: [[0.4549417  3.72528035]] y: [0] c: 0.1 Q: 0\n",
      "X: [[0.05513489 3.9806781 ]] y: [0] c: 0.1 Q: 0\n",
      "X: [[1.22306604 0.54289221]] y: [1] c: 1 Q: 1\n",
      "X: [[2.29447557 3.36035598]] y: [0] c: 1 Q: 1\n",
      "X: [[1.56197733 1.55794617]] y: [1] c: 1 Q: 1\n",
      "X: [[1.6090616  0.61957339]] y: [1] c: 1 Q: 1\n",
      "X: [[2.64447142 4.96492297]] y: [0] c: 0.1 Q: 0\n",
      "X: [[1.64133197 4.19783728]] y: [0] c: 0.1774705241212955 Q: 0\n",
      "X: [[1.96010273 1.69348761]] y: [1] c: 1 Q: 1\n",
      "X: [[2.28356135 4.93801859]] y: [0] c: 0.1 Q: 0\n",
      "X: [[1.78585166 0.96370977]] y: [1] c: 1 Q: 1\n",
      "X: [[0.68673679 3.78056896]] y: [0] c: 0.1 Q: 0\n",
      "X: [[1.76491522 3.54783527]] y: [0] c: 0.9095451980907652 Q: 1\n",
      "X: [[1.22306604 0.54289221]] y: [1] c: 1 Q: 1\n",
      "X: [[0.68673679 3.78056896]] y: [0] c: 0.1 Q: 0\n",
      "X: [[0.3734121  5.64083279]] y: [0] c: 0.1 Q: 1\n",
      "X: [[ 1.52036677 -0.10879037]] y: [1] c: 1 Q: 1\n",
      "X: [[0.94877211 3.48612188]] y: [0] c: 0.5212921168343768 Q: 0\n",
      "X: [[1.38610602 0.65547642]] y: [1] c: 1 Q: 1\n",
      "X: [[1.83747356 5.14545322]] y: [0] c: 0.1 Q: 0\n",
      "X: [[0.27611934 3.22244756]] y: [0] c: 0.5509345229862225 Q: 0\n",
      "X: [[1.12206256 4.98743465]] y: [0] c: 0.1 Q: 0\n",
      "X: [[ 1.36541001 -0.13262085]] y: [1] c: 1 Q: 1\n",
      "X: [[2.123675   1.30573124]] y: [1] c: 1 Q: 1\n",
      "X: [[0.72847434 3.34132142]] y: [0] c: 0.5473438425346663 Q: 0\n",
      "X: [[2.28356135 4.93801859]] y: [0] c: 0.1 Q: 0\n",
      "X: [[2.25121474 0.82895839]] y: [1] c: 1 Q: 1\n"
     ]
    }
   ],
   "source": [
    "for t in range(n_query):\n",
    "    print('X:', history['X'][t],'y:',history['y'][t],'c:',history['c'][t],'Q:',history['Q'][t],)"
   ]
  },
  {
   "cell_type": "code",
   "execution_count": 19,
   "metadata": {},
   "outputs": [
    {
     "data": {
      "text/plain": [
       "[<matplotlib.lines.Line2D at 0x7fb560e7a710>]"
      ]
     },
     "execution_count": 19,
     "metadata": {},
     "output_type": "execute_result"
    },
    {
     "data": {
      "image/png": "[encoded data removed]",
      "text/plain": [
       "<Figure size 432x288 with 1 Axes>"
      ]
     },
     "metadata": {
      "needs_background": "light"
     },
     "output_type": "display_data"
    }
   ],
   "source": [
    "plt.plot(losses)"
   ]
  },
  {
   "cell_type": "markdown",
   "metadata": {},
   "source": [
    "## Part 2.5 Compare results of Active Learning vs No Active Learning"
   ]
  },
  {
   "cell_type": "markdown",
   "metadata": {},
   "source": [
    "In this part you need to create object of the same scikit learning class and train it on randomly selected subset of data points and compare results of 2 classifiers. Comment on your observations"
   ]
  },
  {
   "cell_type": "code",
   "execution_count": 28,
   "metadata": {},
   "outputs": [
    {
     "name": "stdout",
     "output_type": "stream",
     "text": [
      "Active Learning loss: 0.1267449738773306\n",
      "Offline loss (no active learning): 0.04892759486392877\n"
     ]
    }
   ],
   "source": [
    "# Compare to no Active Learning setting\n",
    "\n",
    "## TODO: your code goes here\n",
    "# select random training set\n",
    "X_rand, y_rand = select_n_random(X_train, y_train, 50)\n",
    "\n",
    "# train model\n",
    "lr = LogisticRegression()\n",
    "lr.fit(X_rand, y_rand)\n",
    "\n",
    "offline_loss = log_loss(y_test, lr.predict_proba(X_test)) \n",
    "\n",
    "print('Active Learning loss:', losses[-1])\n",
    "print('Offline loss (no active learning):',offline_loss)"
   ]
  }
 ],
 "metadata": {
  "kernelspec": {
   "display_name": "Python 3",
   "language": "python",
   "name": "python3"
  },
  "language_info": {
   "codemirror_mode": {
    "name": "ipython",
    "version": 3
   },
   "file_extension": ".py",
   "mimetype": "text/x-python",
   "name": "python",
   "nbconvert_exporter": "python",
   "pygments_lexer": "ipython3",
   "version": "3.6.12"
  }
 },
 "nbformat": 4,
 "nbformat_minor": 2
}
