{
 "cells": [
  {
   "cell_type": "markdown",
   "metadata": {},
   "source": [
    "# Question 2. IWAL algorithm implementation (50 points)"
   ]
  },
  {
   "cell_type": "markdown",
   "metadata": {},
   "source": [
    "The purpose of this question is to implement Importance Weighted Active Learning (IWAL) algorithm. For this question, you will not use modAL, but instead will implement IWAL routine from scratch using scikit-learn, NumPy and native Python. \n",
    "\n",
    "In this question, we will use a simple synthetic dataset for a binary classification problem. Each data point has only 2 features. The dataset is provided in 2 files -- “data_iwal.npy”, which contains features and “labels_iwal.npy”, which contains labels. \n",
    "\n",
    "For simplicity, you will implement bootstrapping rejection sampling subroutine with logistic regression and hinge loss.   "
   ]
  },
  {
   "cell_type": "markdown",
   "metadata": {},
   "source": [
    "𝐂𝐨𝐦𝐩𝐥𝐞𝐭𝐞 𝐭𝐡𝐞 𝐜𝐨𝐝𝐞 𝐮𝐧𝐝𝐞𝐫 ###𝐓𝐎 𝐃𝐎 𝐢𝐧 𝐞𝐚𝐜𝐡 𝐜𝐞𝐥𝐥 𝐚𝐧𝐝 𝐩𝐫𝐨𝐝𝐮𝐜𝐞 𝐭𝐡𝐞 𝐫𝐞𝐪𝐮𝐢𝐫𝐞𝐝 𝐩𝐥𝐨𝐭𝐬.  Feel free to define any helper functions as you see fit. You may import and use any modules in scikit-learn and NumPy to help with your implementations."
   ]
  },
  {
   "cell_type": "markdown",
   "metadata": {},
   "source": [
    "## Imports"
   ]
  },
  {
   "cell_type": "markdown",
   "metadata": {},
   "source": [
    "Here we import necessary modules. Feel free to add something else here if you need it!"
   ]
  },
  {
   "cell_type": "code",
   "execution_count": 1,
   "metadata": {},
   "outputs": [],
   "source": [
    "import matplotlib.pyplot as plt\n",
    "%matplotlib inline\n",
    "\n",
    "import numpy as np\n",
    "from sklearn.model_selection import train_test_split\n",
    "from sklearn.metrics import hinge_loss, log_loss\n",
    "from sklearn.linear_model import LogisticRegression"
   ]
  },
  {
   "cell_type": "markdown",
   "metadata": {},
   "source": [
    "## Reading data"
   ]
  },
  {
   "cell_type": "markdown",
   "metadata": {},
   "source": [
    "Here we read the data and split it into train and test datasets. Train will be used to train our classification model and test will be used to validate the performance, monitor overfitting and compare the results of the model trained with Active Learning with the ones of the model trained from scratch. We set aside 1/3 of the dataset for validation."
   ]
  },
  {
   "cell_type": "code",
   "execution_count": 2,
   "metadata": {},
   "outputs": [],
   "source": [
    "X = np.load(\"data/q2/data_iwal.npy\")\n",
    "y = np.load(\"data/q2/labels_iwal.npy\")"
   ]
  },
  {
   "cell_type": "code",
   "execution_count": 3,
   "metadata": {},
   "outputs": [],
   "source": [
    "X_train, X_test, y_train, y_test = train_test_split(X, y, test_size=0.33, random_state=42)"
   ]
  },
  {
   "cell_type": "code",
   "execution_count": 4,
   "metadata": {},
   "outputs": [
    {
     "name": "stdout",
     "output_type": "stream",
     "text": [
      "(134, 2)\n",
      "(134,)\n",
      "(66, 2)\n",
      "(66,)\n",
      "[[2.59193175 1.14706863]\n",
      " [1.7756532  1.15670278]]\n",
      "[1 1]\n"
     ]
    }
   ],
   "source": [
    "print(X_train.shape)\n",
    "print(y_train.shape)\n",
    "print(X_test.shape)\n",
    "print(y_test.shape)\n",
    "\n",
    "print(X[0:2])\n",
    "print(y[0:2])"
   ]
  },
  {
   "cell_type": "markdown",
   "metadata": {},
   "source": [
    "## Part 2.1\n",
    "Type your answers for the theoretical questions below."
   ]
  },
  {
   "cell_type": "markdown",
   "metadata": {},
   "source": [
    "1. What is the idea behind IWAL algorithm?\n",
    "\n",
    "**Your answer goes here**\n",
    "\n",
    "2. What are the assumptions made for the IWAL algorithm?\n",
    "\n",
    "**Your answer goes here**\n",
    "\n",
    "3. What are the pros and cons of IWAL algorithm?\n",
    "\n",
    "**Your answer goes here**"
   ]
  },
  {
   "cell_type": "markdown",
   "metadata": {},
   "source": [
    "## Part 2.2 Implement IWAL algorithm"
   ]
  },
  {
   "cell_type": "markdown",
   "metadata": {},
   "source": [
    "In this part you will implement a function that performs a single query of Algorithm 1 IWAL (subroutine rejection-sampling) from the paper. Below is the function description that you can follow in your implementation."
   ]
  },
  {
   "cell_type": "markdown",
   "metadata": {},
   "source": [
    "### Implemented Equations\n",
    "\n",
    "$h_t = \\underset{h \\in H}{argmin}\\sum_{(x,y,c)\\in S_t}c \\cdot l(h(x),y)$"
   ]
  },
  {
   "cell_type": "code",
   "execution_count": 5,
   "metadata": {},
   "outputs": [],
   "source": [
    "# implemented in custom Python package iwal_functions"
   ]
  },
  {
   "cell_type": "markdown",
   "metadata": {},
   "source": [
    "## Part 2.3 Implement bootstrapping rejection sampling subroutine\n",
    "In this part you will implement bootstrapping rejection sampling subroutine from the paper, section 7.2"
   ]
  },
  {
   "cell_type": "markdown",
   "metadata": {},
   "source": [
    "### Implemented Equations\n",
    "$p_t = p_{min}+(1-p_{min})[\\underset{y;h_i,h_j \\in H}{max}L(h_i(x),y)-L(h_j(x),y)]$\n",
    "\n",
    "where $p_{min}$ is a lower bound on the sampling probability"
   ]
  },
  {
   "cell_type": "code",
   "execution_count": 6,
   "metadata": {},
   "outputs": [],
   "source": [
    "# implemented in custom Python package iwal_functions"
   ]
  },
  {
   "cell_type": "markdown",
   "metadata": {},
   "source": [
    "## Part 2.4 Organize all implemented parts into a single pipeline\n",
    "You implemented all parts of the IWAL algorithm with bootstrap rejection sampling. Now organize it into a pipeline."
   ]
  },
  {
   "cell_type": "code",
   "execution_count": 84,
   "metadata": {},
   "outputs": [],
   "source": [
    "def select_n_random(X,y,n):\n",
    "    index = np.random.choice(X.shape[0], n, replace=True)\n",
    "    return X[index],y[index]"
   ]
  },
  {
   "cell_type": "code",
   "execution_count": 94,
   "metadata": {},
   "outputs": [],
   "source": [
    "#?? isn't initializing H creating n_h classifiers?\n",
    "#?? initialize history means to simply set up the empty dictionary?\n",
    "#?? need to fit models first? what data do I use?\n",
    "#?? don't understand bootstrapped data here? remove the bootstrapped data from our pool/stream for future queries?\n",
    "#?? which loss function to use here? why is log_loss also imported?\n",
    "#?? data sampled with replacement? I thought we are using the first 10 recoreds as bootstrapped?\n",
    "#?? train each model on different set of training data?\n",
    "#?? what do we use initial training set for? if we use on all models, all models will have the same behavior...\n",
    "#?? where are we supposed to retrain the model, with new data?\n",
    "\n",
    "# create an initial training set\n",
    "n_initial = 10\n",
    "X_training, y_training = X_train[:n_initial], y_train[:n_initial]\n",
    "\n",
    "\n",
    "# Initialize history and H\n",
    "## TODO: your code here\n",
    "\n",
    "\n",
    "# Create n_h classifiers and train them on bootstrapped data (data is sampled with replacement)\n",
    "## TODO: your code goes here\n",
    "H = []\n",
    "n_h = 10\n",
    "for i in range(n_h):\n",
    "    \n",
    "    # select random training set\n",
    "    X_rand, y_rand = select_n_random(X_train, y_train, 10)\n",
    "    \n",
    "    # train model\n",
    "    lr = LogisticRegression()\n",
    "    lr.fit(X_rand, y_rand)\n",
    "    H.append(lr)\n",
    "\n",
    "    \n",
    "# initialize additional arguments\n",
    "history = {'X': [],'y': [],'c': [],'Q': []}\n",
    "selected = []\n",
    "labels = [0,1]\n",
    "p_min = 0.1  \n",
    "\n",
    "# format as required by bootstrap function\n",
    "bootstrap_arguments = {\n",
    "    'H': H,\n",
    "    'loss': hinge_loss,\n",
    "    'labels': labels,\n",
    "    'p_min': p_min\n",
    "}"
   ]
  },
  {
   "cell_type": "code",
   "execution_count": 102,
   "metadata": {},
   "outputs": [
    {
     "name": "stdout",
     "output_type": "stream",
     "text": [
      "(1, 2)\n",
      "(1,)\n",
      "CPU times: user 418 µs, sys: 189 µs, total: 607 µs\n",
      "Wall time: 496 µs\n"
     ]
    }
   ],
   "source": [
    "%%time\n",
    "\n",
    "#?? all LR models are predicting exactly the same result\n",
    "#?? how to choose samples? start from beginning?\n",
    "\n",
    "# my custom package\n",
    "from packages.iwal import iwal_functions\n",
    "\n",
    "\n",
    "# Perform queries and record loss\n",
    "losses = []\n",
    "n_query = 50\n",
    "# for t in range(n_query):\n",
    "for t in range(1):\n",
    "    \n",
    "    ### TODO: your code goes here\n",
    "    # select sample \n",
    "    x_t, y_t = select_n_random(X_train, y_train, 1)\n",
    "#     x_t = X_train[t].reshape(1, 2)\n",
    "#     y_t = y_train[t].reshape(1)\n",
    "#     print(x_t.shape)\n",
    "#     print(y_t.shape)\n",
    "#     print(x_t)\n",
    "#     print(y_t)\n",
    "    \n",
    "#     predict = None\n",
    "#     for each in H:\n",
    "#         a = each.predict(x_t)\n",
    "        \n",
    "#         if not predict:\n",
    "#             predict = a\n",
    "#         else:\n",
    "#             if a != predict:\n",
    "#                 print('Found a difference!')\n",
    "#                 print(predict)\n",
    "#                 print(a)\n",
    "#                 print(x_t)\n",
    "#                 print(y_t)\n",
    "    \n",
    "    \n",
    "#     # derive optimal hypothesis\n",
    "#     h_t = iwal_functions.iwal_query(x_t,\n",
    "#                                     y_t,\n",
    "#                                     selected,\n",
    "#                                     iwal_functions.bootstrap, \n",
    "#                                     history, \n",
    "#                                     H, \n",
    "#                                     hinge_loss, \n",
    "#                                     labels, \n",
    "#                                     kwargs=bootstrap_arguments)\n",
    "    \n",
    "#     # calculate loss and store for later\n",
    "#     loss_t = log_loss(y_test, h_t.predict_proba(X_test)) \n",
    "#     losses.append(loss_t)\n",
    "     "
   ]
  },
  {
   "cell_type": "code",
   "execution_count": 100,
   "metadata": {},
   "outputs": [
    {
     "data": {
      "text/plain": [
       "[0.12956074460456057,\n",
       " 0.12956074460456057,\n",
       " 0.12956074460456057,\n",
       " 0.12956074460456057,\n",
       " 0.12956074460456057,\n",
       " 0.12956074460456057,\n",
       " 0.12956074460456057,\n",
       " 0.12956074460456057,\n",
       " 0.12956074460456057,\n",
       " 0.12956074460456057,\n",
       " 0.12956074460456057,\n",
       " 0.12956074460456057,\n",
       " 0.12956074460456057,\n",
       " 0.12956074460456057,\n",
       " 0.12956074460456057,\n",
       " 0.12956074460456057,\n",
       " 0.12956074460456057,\n",
       " 0.12956074460456057,\n",
       " 0.12956074460456057,\n",
       " 0.12956074460456057,\n",
       " 0.12956074460456057,\n",
       " 0.12956074460456057,\n",
       " 0.12956074460456057,\n",
       " 0.12956074460456057,\n",
       " 0.12956074460456057,\n",
       " 0.12956074460456057,\n",
       " 0.12956074460456057,\n",
       " 0.12956074460456057,\n",
       " 0.12956074460456057,\n",
       " 0.12956074460456057,\n",
       " 0.12956074460456057,\n",
       " 0.12956074460456057,\n",
       " 0.12956074460456057,\n",
       " 0.12956074460456057,\n",
       " 0.12956074460456057,\n",
       " 0.12956074460456057,\n",
       " 0.12956074460456057,\n",
       " 0.12956074460456057,\n",
       " 0.12956074460456057,\n",
       " 0.12956074460456057,\n",
       " 0.12956074460456057,\n",
       " 0.12956074460456057,\n",
       " 0.12956074460456057,\n",
       " 0.12956074460456057,\n",
       " 0.12956074460456057,\n",
       " 0.12956074460456057,\n",
       " 0.12956074460456057,\n",
       " 0.12956074460456057,\n",
       " 0.12956074460456057,\n",
       " 0.12956074460456057,\n",
       " 0.12956074460456057,\n",
       " 0.12956074460456057,\n",
       " 0.12956074460456057,\n",
       " 0.12956074460456057,\n",
       " 0.12956074460456057,\n",
       " 0.12956074460456057,\n",
       " 0.12956074460456057,\n",
       " 0.12956074460456057,\n",
       " 0.12956074460456057,\n",
       " 0.12956074460456057,\n",
       " 0.12956074460456057,\n",
       " 0.12956074460456057,\n",
       " 0.12956074460456057,\n",
       " 0.12956074460456057,\n",
       " 0.12956074460456057,\n",
       " 0.12956074460456057,\n",
       " 0.12956074460456057,\n",
       " 0.12956074460456057,\n",
       " 0.12956074460456057,\n",
       " 0.12956074460456057,\n",
       " 0.12956074460456057,\n",
       " 0.12956074460456057,\n",
       " 0.12956074460456057,\n",
       " 0.12956074460456057,\n",
       " 0.12956074460456057,\n",
       " 0.12956074460456057,\n",
       " 0.12956074460456057,\n",
       " 0.12956074460456057,\n",
       " 0.12956074460456057,\n",
       " 0.12956074460456057,\n",
       " 0.12956074460456057,\n",
       " 0.12956074460456057,\n",
       " 0.12956074460456057,\n",
       " 0.12956074460456057,\n",
       " 0.12956074460456057,\n",
       " 0.12956074460456057,\n",
       " 0.12956074460456057,\n",
       " 0.12956074460456057,\n",
       " 0.12956074460456057,\n",
       " 0.12956074460456057,\n",
       " 0.12956074460456057,\n",
       " 0.12956074460456057,\n",
       " 0.12956074460456057,\n",
       " 0.12956074460456057,\n",
       " 0.12956074460456057,\n",
       " 0.12956074460456057,\n",
       " 0.12956074460456057,\n",
       " 0.12956074460456057,\n",
       " 0.12956074460456057,\n",
       " 0.12956074460456057,\n",
       " 0.12956074460456057,\n",
       " 0.12956074460456057,\n",
       " 0.12956074460456057,\n",
       " 0.12956074460456057,\n",
       " 0.12956074460456057,\n",
       " 0.12956074460456057,\n",
       " 0.12956074460456057,\n",
       " 0.12956074460456057,\n",
       " 0.12956074460456057,\n",
       " 0.12956074460456057,\n",
       " 0.12956074460456057,\n",
       " 0.12956074460456057,\n",
       " 0.12956074460456057,\n",
       " 0.12956074460456057,\n",
       " 0.12956074460456057,\n",
       " 0.12956074460456057,\n",
       " 0.12956074460456057,\n",
       " 0.12956074460456057,\n",
       " 0.12956074460456057,\n",
       " 0.12956074460456057,\n",
       " 0.12956074460456057,\n",
       " 0.12956074460456057,\n",
       " 0.12956074460456057,\n",
       " 0.12956074460456057,\n",
       " 0.12956074460456057,\n",
       " 0.12956074460456057,\n",
       " 0.12956074460456057,\n",
       " 0.12956074460456057,\n",
       " 0.12956074460456057,\n",
       " 0.12956074460456057,\n",
       " 0.12956074460456057,\n",
       " 0.12956074460456057,\n",
       " 0.12956074460456057,\n",
       " 0.12956074460456057]"
      ]
     },
     "execution_count": 100,
     "metadata": {},
     "output_type": "execute_result"
    }
   ],
   "source": [
    "losses"
   ]
  },
  {
   "cell_type": "code",
   "execution_count": 101,
   "metadata": {},
   "outputs": [
    {
     "data": {
      "text/plain": [
       "[<matplotlib.lines.Line2D at 0x7ff9e78df0b8>]"
      ]
     },
     "execution_count": 101,
     "metadata": {},
     "output_type": "execute_result"
    },
    {
     "data": {
      "image/png": "[encoded data removed]",
      "text/plain": [
       "<Figure size 432x288 with 1 Axes>"
      ]
     },
     "metadata": {
      "needs_background": "light"
     },
     "output_type": "display_data"
    }
   ],
   "source": [
    "#?? plot doesn't seem to work\n",
    "plt.plot(losses)"
   ]
  },
  {
   "cell_type": "markdown",
   "metadata": {},
   "source": [
    "## Part 2.5 Compare results of Active Learning vs No Active Learning"
   ]
  },
  {
   "cell_type": "markdown",
   "metadata": {},
   "source": [
    "In this part you need to create object of the same scikit learning class and train it on randomly selected subset of data points and compare results of 2 classifiers. Comment on your observations"
   ]
  },
  {
   "cell_type": "code",
   "execution_count": 11,
   "metadata": {},
   "outputs": [],
   "source": [
    "# Compare to no Active Learning setting\n",
    "\n",
    "## TODO: your code goes here"
   ]
  },
  {
   "cell_type": "code",
   "execution_count": null,
   "metadata": {},
   "outputs": [],
   "source": []
  }
 ],
 "metadata": {
  "kernelspec": {
   "display_name": "Python 3",
   "language": "python",
   "name": "python3"
  },
  "language_info": {
   "codemirror_mode": {
    "name": "ipython",
    "version": 3
   },
   "file_extension": ".py",
   "mimetype": "text/x-python",
   "name": "python",
   "nbconvert_exporter": "python",
   "pygments_lexer": "ipython3",
   "version": "3.6.12"
  }
 },
 "nbformat": 4,
 "nbformat_minor": 2
}
