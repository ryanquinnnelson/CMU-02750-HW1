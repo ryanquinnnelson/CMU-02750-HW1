{
 "cells": [
  {
   "cell_type": "markdown",
   "metadata": {},
   "source": [
    "# Question 2. IWAL algorithm implementation (50 points)"
   ]
  },
  {
   "cell_type": "markdown",
   "metadata": {},
   "source": [
    "The purpose of this question is to implement Importance Weighted Active Learning (IWAL) algorithm. For this question, you will not use modAL, but instead will implement IWAL routine from scratch using scikit-learn, NumPy and native Python. \n",
    "\n",
    "In this question, we will use a simple synthetic dataset for a binary classification problem. Each data point has only 2 features. The dataset is provided in 2 files -- “data_iwal.npy”, which contains features and “labels_iwal.npy”, which contains labels. \n",
    "\n",
    "For simplicity, you will implement bootstrapping rejection sampling subroutine with logistic regression and hinge loss.   "
   ]
  },
  {
   "cell_type": "markdown",
   "metadata": {},
   "source": [
    "𝐂𝐨𝐦𝐩𝐥𝐞𝐭𝐞 𝐭𝐡𝐞 𝐜𝐨𝐝𝐞 𝐮𝐧𝐝𝐞𝐫 ###𝐓𝐎 𝐃𝐎 𝐢𝐧 𝐞𝐚𝐜𝐡 𝐜𝐞𝐥𝐥 𝐚𝐧𝐝 𝐩𝐫𝐨𝐝𝐮𝐜𝐞 𝐭𝐡𝐞 𝐫𝐞𝐪𝐮𝐢𝐫𝐞𝐝 𝐩𝐥𝐨𝐭𝐬.  Feel free to define any helper functions as you see fit. You may import and use any modules in scikit-learn and NumPy to help with your implementations."
   ]
  },
  {
   "cell_type": "markdown",
   "metadata": {},
   "source": [
    "## Imports"
   ]
  },
  {
   "cell_type": "markdown",
   "metadata": {},
   "source": [
    "Here we import necessary modules. Feel free to add something else here if you need it!"
   ]
  },
  {
   "cell_type": "code",
   "execution_count": 1,
   "metadata": {},
   "outputs": [],
   "source": [
    "# TODO\n",
    "# randomize sttream\n",
    "# remove from stream once selected\n",
    "#?? consider data to be sufficiently random already?"
   ]
  },
  {
   "cell_type": "code",
   "execution_count": 2,
   "metadata": {},
   "outputs": [],
   "source": [
    "import matplotlib.pyplot as plt\n",
    "%matplotlib inline\n",
    "\n",
    "import numpy as np\n",
    "from sklearn.model_selection import train_test_split\n",
    "from sklearn.metrics import hinge_loss, log_loss\n",
    "from sklearn.linear_model import LogisticRegression\n",
    "import copy\n",
    "from packages.iwal import iwal  # my custom package\n",
    "from packages.iwal import loss_function as lf"
   ]
  },
  {
   "cell_type": "markdown",
   "metadata": {},
   "source": [
    "## Reading data"
   ]
  },
  {
   "cell_type": "markdown",
   "metadata": {},
   "source": [
    "Here we read the data and split it into train and test datasets. Train will be used to train our classification model and test will be used to validate the performance, monitor overfitting and compare the results of the model trained with Active Learning with the ones of the model trained from scratch. We set aside 1/3 of the dataset for validation."
   ]
  },
  {
   "cell_type": "code",
   "execution_count": 3,
   "metadata": {},
   "outputs": [],
   "source": [
    "X = np.load(\"data/q2/data_iwal.npy\")\n",
    "y = np.load(\"data/q2/labels_iwal.npy\")"
   ]
  },
  {
   "cell_type": "code",
   "execution_count": 4,
   "metadata": {},
   "outputs": [],
   "source": [
    "X_train, X_test, y_train, y_test = train_test_split(X, y, test_size=0.33, random_state=42)"
   ]
  },
  {
   "cell_type": "code",
   "execution_count": 5,
   "metadata": {
    "scrolled": true
   },
   "outputs": [
    {
     "name": "stdout",
     "output_type": "stream",
     "text": [
      "(134, 2)\n",
      "(134,)\n",
      "(66, 2)\n",
      "(66,)\n",
      "[[2.59193175 1.14706863]\n",
      " [1.7756532  1.15670278]]\n",
      "[1 1]\n"
     ]
    }
   ],
   "source": [
    "print(X_train.shape)\n",
    "print(y_train.shape)\n",
    "print(X_test.shape)\n",
    "print(y_test.shape)\n",
    "\n",
    "print(X[0:2])\n",
    "print(y[0:2])"
   ]
  },
  {
   "cell_type": "markdown",
   "metadata": {},
   "source": [
    "## Part 2.1\n",
    "Type your answers for the theoretical questions below."
   ]
  },
  {
   "cell_type": "markdown",
   "metadata": {},
   "source": [
    "1. What is the idea behind IWAL algorithm?\n",
    "\n",
    "**Your answer goes here**\n",
    "Corrects for sample bias using weighting.\n",
    "\n",
    "\n",
    "2. What are the assumptions made for the IWAL algorithm?\n",
    "\n",
    "**Your answer goes here**\n",
    "\n",
    "3. What are the pros and cons of IWAL algorithm?\n",
    "\n",
    "**Your answer goes here**"
   ]
  },
  {
   "cell_type": "markdown",
   "metadata": {},
   "source": [
    "## Part 2.2 Implement IWAL algorithm"
   ]
  },
  {
   "cell_type": "markdown",
   "metadata": {},
   "source": [
    "In this part you will implement a function that performs a single query of Algorithm 1 IWAL (subroutine rejection-sampling) from the paper. Below is the function description that you can follow in your implementation."
   ]
  },
  {
   "cell_type": "markdown",
   "metadata": {},
   "source": [
    "### Implemented Equations\n",
    "\n",
    "$h_t = \\underset{h \\in H}{argmin}\\sum_{(x,y,c)\\in S_t}c \\cdot l(h(x),y)$"
   ]
  },
  {
   "cell_type": "code",
   "execution_count": 6,
   "metadata": {},
   "outputs": [],
   "source": [
    "# implemented in custom Python package iwal.iwal"
   ]
  },
  {
   "cell_type": "markdown",
   "metadata": {},
   "source": [
    "## Part 2.3 Implement bootstrapping rejection sampling subroutine\n",
    "In this part you will implement bootstrapping rejection sampling subroutine from the paper, section 7.2"
   ]
  },
  {
   "cell_type": "markdown",
   "metadata": {},
   "source": [
    "### Implemented Equations\n",
    "$p_t = p_{min}+(1-p_{min})[\\underset{y;h_i,h_j \\in H}{max}L(h_i(x),y)-L(h_j(x),y)]$\n",
    "\n",
    "where $p_{min}$ is a lower bound on the sampling probability"
   ]
  },
  {
   "cell_type": "code",
   "execution_count": 7,
   "metadata": {},
   "outputs": [],
   "source": [
    "# implemented in custom Python package iwal.rejection_threshold and iwal.loss_function"
   ]
  },
  {
   "cell_type": "markdown",
   "metadata": {},
   "source": [
    "## Part 2.4 Organize all implemented parts into a single pipeline\n",
    "You implemented all parts of the IWAL algorithm with bootstrap rejection sampling. Now organize it into a pipeline."
   ]
  },
  {
   "cell_type": "code",
   "execution_count": 8,
   "metadata": {
    "scrolled": false
   },
   "outputs": [
    {
     "name": "stdout",
     "output_type": "stream",
     "text": [
      "(2,)\n",
      "(1,)\n",
      "(2,)\n",
      "(1,)\n",
      "(2,)\n",
      "(1,)\n",
      "(2,)\n",
      "(1,)\n",
      "(2,)\n",
      "(1,)\n",
      "(2,)\n",
      "(1,)\n",
      "(2,)\n",
      "(1,)\n",
      "(2,)\n",
      "(1,)\n",
      "(2,)\n",
      "(1,)\n",
      "(2,)\n",
      "(1,)\n",
      "(2,)\n",
      "(1,)\n",
      "(2,)\n",
      "(1,)\n",
      "(2,)\n",
      "(1,)\n",
      "(2,)\n",
      "(1,)\n",
      "(2,)\n",
      "(1,)\n",
      "(2,)\n",
      "(1,)\n",
      "(2,)\n",
      "(1,)\n",
      "(2,)\n",
      "(1,)\n",
      "(2,)\n",
      "(1,)\n",
      "(2,)\n",
      "(1,)\n",
      "(2,)\n",
      "(1,)\n",
      "(2,)\n",
      "(1,)\n",
      "(2,)\n",
      "(1,)\n",
      "(2,)\n",
      "(1,)\n",
      "(2,)\n",
      "(1,)\n",
      "(2,)\n",
      "(1,)\n",
      "(2,)\n",
      "(1,)\n",
      "(2,)\n",
      "(1,)\n",
      "(2,)\n",
      "(1,)\n",
      "(2,)\n",
      "(1,)\n",
      "(2,)\n",
      "(1,)\n",
      "(2,)\n",
      "(1,)\n",
      "(2,)\n",
      "(1,)\n",
      "(2,)\n",
      "(1,)\n",
      "(2,)\n",
      "(1,)\n",
      "(2,)\n",
      "(1,)\n",
      "(2,)\n",
      "(1,)\n",
      "(2,)\n",
      "(1,)\n",
      "(2,)\n",
      "(1,)\n",
      "(2,)\n",
      "(1,)\n",
      "(2,)\n",
      "(1,)\n",
      "(2,)\n",
      "(1,)\n",
      "(2,)\n",
      "(1,)\n",
      "(2,)\n",
      "(1,)\n",
      "(2,)\n",
      "(1,)\n",
      "(2,)\n",
      "(1,)\n",
      "(2,)\n",
      "(1,)\n",
      "(2,)\n",
      "(1,)\n",
      "(2,)\n",
      "(1,)\n",
      "(2,)\n",
      "(1,)\n",
      "(2,)\n",
      "(1,)\n",
      "(2,)\n",
      "(1,)\n",
      "(2,)\n",
      "(1,)\n",
      "(2,)\n",
      "(1,)\n",
      "(2,)\n",
      "(1,)\n",
      "(2,)\n",
      "(1,)\n",
      "(2,)\n",
      "(1,)\n",
      "(2,)\n",
      "(1,)\n",
      "(2,)\n",
      "(1,)\n",
      "(2,)\n",
      "(1,)\n",
      "CPU times: user 8.07 s, sys: 365 ms, total: 8.43 s\n",
      "Wall time: 8.26 s\n"
     ]
    }
   ],
   "source": [
    "%%time\n",
    "\n",
    "# copy data for use with this section\n",
    "X_train_iwal = copy.deepcopy(X_train)\n",
    "y_train_iwal = copy.deepcopy(y_train)\n",
    "\n",
    "\n",
    "# additional arguments\n",
    "history = {}\n",
    "selected = {}\n",
    "rejection_threshold = 'bootstrap'\n",
    "loss_function = lf.normalized_hinge_loss_1  # approx the same results as hinge_loss_2 and hinge_loss_3\n",
    "\n",
    "\n",
    "# Perform queries and record loss\n",
    "losses_AL = []\n",
    "n_query = 60 # first 10 queries are bootstrapping process and do not produce h_t\n",
    "for t in range(n_query):\n",
    "    \n",
    "    # select sample \n",
    "    idx = np.random.choice(X_train_iwal.shape[0], 1, replace=False)\n",
    "    x_t = X_train_iwal[idx].reshape(2,)  # shape expected by function\n",
    "    y_t = y_train_iwal[idx].reshape(1,)  # shape expected by function\n",
    "    \n",
    "    # remove sample from stream\n",
    "    X_train_iwal, y_train_iwal = np.delete(X_train_iwal, idx, axis=0), np.delete(y_train_iwal, idx, axis=0)\n",
    "\n",
    "    # select optimal hypothesis\n",
    "    h_t = iwal.iwal_query(x_t,y_t,history,selected,rejection_threshold, loss_function)\n",
    "\n",
    "    # calculate loss only for fitted models\n",
    "    if h_t:\n",
    "        loss_t = log_loss(y_test, h_t.predict_proba(X_test)) \n",
    "        losses_AL.append(loss_t)\n",
    "     "
   ]
  },
  {
   "cell_type": "code",
   "execution_count": 9,
   "metadata": {},
   "outputs": [
    {
     "data": {
      "text/plain": [
       "[<matplotlib.lines.Line2D at 0x7fd623cb3ef0>]"
      ]
     },
     "execution_count": 9,
     "metadata": {},
     "output_type": "execute_result"
    },
    {
     "data": {
      "image/png": "[encoded data removed]",
      "text/plain": [
       "<Figure size 432x288 with 1 Axes>"
      ]
     },
     "metadata": {
      "needs_background": "light"
     },
     "output_type": "display_data"
    }
   ],
   "source": [
    "plt.plot(losses_AL)"
   ]
  },
  {
   "cell_type": "markdown",
   "metadata": {},
   "source": [
    "## Part 2.5 Compare results of Active Learning vs No Active Learning"
   ]
  },
  {
   "cell_type": "markdown",
   "metadata": {},
   "source": [
    "In this part you need to create object of the same scikit learning class and train it on randomly selected subset of data points and compare results of 2 classifiers. Comment on your observations"
   ]
  },
  {
   "cell_type": "code",
   "execution_count": 10,
   "metadata": {},
   "outputs": [],
   "source": [
    "# copy data for use with this section\n",
    "X_train_OFF = copy.deepcopy(X_train)\n",
    "y_train_OFF = copy.deepcopy(y_train)\n",
    "\n",
    "losses_OFF = [None for i in range(10)]  # ignore first 10\n",
    "lr = LogisticRegression()\n",
    "\n",
    "# consider performance of model as more and more samples are added\n",
    "for t in range(10,135):\n",
    "    \n",
    "    # select sample \n",
    "    x_t = X_train_OFF[:t]\n",
    "    y_t = y_train_OFF[:t]\n",
    "\n",
    "    # train model\n",
    "    lr.fit(x_t, y_t)\n",
    "    loss = log_loss(y_test, lr.predict_proba(X_test))\n",
    "    losses_OFF.append(loss)"
   ]
  },
  {
   "cell_type": "code",
   "execution_count": 11,
   "metadata": {},
   "outputs": [
    {
     "data": {
      "text/plain": [
       "[<matplotlib.lines.Line2D at 0x7fd623f3a588>]"
      ]
     },
     "execution_count": 11,
     "metadata": {},
     "output_type": "execute_result"
    },
    {
     "data": {
      "image/png": "[encoded data removed]",
      "text/plain": [
       "<Figure size 432x288 with 1 Axes>"
      ]
     },
     "metadata": {
      "needs_background": "light"
     },
     "output_type": "display_data"
    }
   ],
   "source": [
    "plt.plot(losses_OFF)"
   ]
  },
  {
   "cell_type": "code",
   "execution_count": 12,
   "metadata": {},
   "outputs": [
    {
     "data": {
      "text/plain": [
       "<matplotlib.legend.Legend at 0x7fd62072f588>"
      ]
     },
     "execution_count": 12,
     "metadata": {},
     "output_type": "execute_result"
    },
    {
     "data": {
      "image/png": "[encoded data removed]",
      "text/plain": [
       "<Figure size 2040x480 with 1 Axes>"
      ]
     },
     "metadata": {
      "needs_background": "light"
     },
     "output_type": "display_data"
    }
   ],
   "source": [
    "# plot both together\n",
    "fig, ax = plt.subplots(figsize=(8.5, 2), dpi=240)\n",
    "ax.plot(losses_OFF, label='Offline Learner')\n",
    "ax.plot(losses_AL,label='Active Learner')\n",
    "plt.xticks(range(0, 130,10))\n",
    "plt.legend()"
   ]
  },
  {
   "cell_type": "code",
   "execution_count": 13,
   "metadata": {},
   "outputs": [
    {
     "name": "stdout",
     "output_type": "stream",
     "text": [
      "Active Learning loss: 0.10996528776901332\n",
      "Offline loss (no active learning): 0.02953955329461491\n",
      "Number of samples used to train active learner: 13\n",
      "Number of samples used to train offline learner to the same level: 12\n"
     ]
    }
   ],
   "source": [
    "# count number of samples used to train active learner vs offline learner to the same performance\n",
    "\n",
    "# active learner\n",
    "count_AL = 0\n",
    "for each in history['Q']:\n",
    "    if each == 1:\n",
    "        count_AL += 1\n",
    "\n",
    "# best performance active learner\n",
    "min_loss_AL = min(losses_AL)\n",
    "\n",
    "\n",
    "count_OFF = 10\n",
    "for loss in losses_OFF[10:]:\n",
    "    if loss > min_loss_AL:\n",
    "        count_OFF += 1\n",
    "        \n",
    "\n",
    "# compare performance\n",
    "print('Active Learning loss:', min_loss_AL)\n",
    "print('Offline loss (no active learning):',min(losses_OFF[10:]))\n",
    "\n",
    "print('Number of samples used to train active learner:',count_AL)\n",
    "print('Number of samples used to train offline learner to the same level:', count_OFF)"
   ]
  },
  {
   "cell_type": "markdown",
   "metadata": {},
   "source": [
    "### Comment on observations\n",
    "The active learner was able to achieve similar levels of performance on a much smaller number of samples. It was able to more quickly achieve better performance than the offline learner."
   ]
  }
 ],
 "metadata": {
  "kernelspec": {
   "display_name": "Python 3",
   "language": "python",
   "name": "python3"
  },
  "language_info": {
   "codemirror_mode": {
    "name": "ipython",
    "version": 3
   },
   "file_extension": ".py",
   "mimetype": "text/x-python",
   "name": "python",
   "nbconvert_exporter": "python",
   "pygments_lexer": "ipython3",
   "version": "3.6.12"
  }
 },
 "nbformat": 4,
 "nbformat_minor": 2
}
