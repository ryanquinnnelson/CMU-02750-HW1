{
 "cells": [
  {
   "cell_type": "markdown",
   "metadata": {},
   "source": [
    "# Question 2. IWAL algorithm implementation (50 points)"
   ]
  },
  {
   "cell_type": "markdown",
   "metadata": {},
   "source": [
    "The purpose of this question is to implement Importance Weighted Active Learning (IWAL) algorithm. For this question, you will not use modAL, but instead will implement IWAL routine from scratch using scikit-learn, NumPy and native Python. \n",
    "\n",
    "In this question, we will use a simple synthetic dataset for a binary classification problem. Each data point has only 2 features. The dataset is provided in 2 files -- “data_iwal.npy”, which contains features and “labels_iwal.npy”, which contains labels. \n",
    "\n",
    "For simplicity, you will implement bootstrapping rejection sampling subroutine with logistic regression and hinge loss.   "
   ]
  },
  {
   "cell_type": "markdown",
   "metadata": {},
   "source": [
    "𝐂𝐨𝐦𝐩𝐥𝐞𝐭𝐞 𝐭𝐡𝐞 𝐜𝐨𝐝𝐞 𝐮𝐧𝐝𝐞𝐫 ###𝐓𝐎 𝐃𝐎 𝐢𝐧 𝐞𝐚𝐜𝐡 𝐜𝐞𝐥𝐥 𝐚𝐧𝐝 𝐩𝐫𝐨𝐝𝐮𝐜𝐞 𝐭𝐡𝐞 𝐫𝐞𝐪𝐮𝐢𝐫𝐞𝐝 𝐩𝐥𝐨𝐭𝐬.  Feel free to define any helper functions as you see fit. You may import and use any modules in scikit-learn and NumPy to help with your implementations."
   ]
  },
  {
   "cell_type": "markdown",
   "metadata": {},
   "source": [
    "## Imports"
   ]
  },
  {
   "cell_type": "markdown",
   "metadata": {},
   "source": [
    "Here we import necessary modules. Feel free to add something else here if you need it!"
   ]
  },
  {
   "cell_type": "code",
   "execution_count": 1,
   "metadata": {},
   "outputs": [],
   "source": [
    "import matplotlib.pyplot as plt\n",
    "%matplotlib inline\n",
    "\n",
    "import numpy as np\n",
    "from sklearn.model_selection import train_test_split\n",
    "from sklearn.metrics import hinge_loss, log_loss\n",
    "from sklearn.linear_model import LogisticRegression"
   ]
  },
  {
   "cell_type": "markdown",
   "metadata": {},
   "source": [
    "## Reading data"
   ]
  },
  {
   "cell_type": "markdown",
   "metadata": {},
   "source": [
    "Here we read the data and split it into train and test datasets. Train will be used to train our classification model and test will be used to validate the performance, monitor overfitting and compare the results of the model trained with Active Learning with the ones of the model trained from scratch. We set aside 1/3 of the dataset for validation."
   ]
  },
  {
   "cell_type": "code",
   "execution_count": 2,
   "metadata": {},
   "outputs": [],
   "source": [
    "X = np.load(\"data/q2/data_iwal.npy\")\n",
    "y = np.load(\"data/q2/labels_iwal.npy\")"
   ]
  },
  {
   "cell_type": "code",
   "execution_count": 3,
   "metadata": {},
   "outputs": [],
   "source": [
    "X_train, X_test, y_train, y_test = train_test_split(X, y, test_size=0.33, random_state=42)"
   ]
  },
  {
   "cell_type": "code",
   "execution_count": 4,
   "metadata": {
    "scrolled": true
   },
   "outputs": [
    {
     "name": "stdout",
     "output_type": "stream",
     "text": [
      "(134, 2)\n",
      "(134,)\n",
      "(66, 2)\n",
      "(66,)\n",
      "[[2.59193175 1.14706863]\n",
      " [1.7756532  1.15670278]]\n",
      "[1 1]\n"
     ]
    }
   ],
   "source": [
    "print(X_train.shape)\n",
    "print(y_train.shape)\n",
    "print(X_test.shape)\n",
    "print(y_test.shape)\n",
    "\n",
    "print(X[0:2])\n",
    "print(y[0:2])"
   ]
  },
  {
   "cell_type": "markdown",
   "metadata": {},
   "source": [
    "## Part 2.1\n",
    "Type your answers for the theoretical questions below."
   ]
  },
  {
   "cell_type": "markdown",
   "metadata": {},
   "source": [
    "1. What is the idea behind IWAL algorithm?\n",
    "\n",
    "**Your answer goes here**\n",
    "Corrects for sample bias using weighting.\n",
    "\n",
    "\n",
    "2. What are the assumptions made for the IWAL algorithm?\n",
    "\n",
    "**Your answer goes here**\n",
    "\n",
    "3. What are the pros and cons of IWAL algorithm?\n",
    "\n",
    "**Your answer goes here**"
   ]
  },
  {
   "cell_type": "markdown",
   "metadata": {},
   "source": [
    "## Part 2.2 Implement IWAL algorithm"
   ]
  },
  {
   "cell_type": "markdown",
   "metadata": {},
   "source": [
    "In this part you will implement a function that performs a single query of Algorithm 1 IWAL (subroutine rejection-sampling) from the paper. Below is the function description that you can follow in your implementation."
   ]
  },
  {
   "cell_type": "markdown",
   "metadata": {},
   "source": [
    "### Implemented Equations\n",
    "\n",
    "$h_t = \\underset{h \\in H}{argmin}\\sum_{(x,y,c)\\in S_t}c \\cdot l(h(x),y)$"
   ]
  },
  {
   "cell_type": "code",
   "execution_count": 5,
   "metadata": {},
   "outputs": [],
   "source": [
    "# implemented in custom Python package iwal_functions"
   ]
  },
  {
   "cell_type": "markdown",
   "metadata": {},
   "source": [
    "## Part 2.3 Implement bootstrapping rejection sampling subroutine\n",
    "In this part you will implement bootstrapping rejection sampling subroutine from the paper, section 7.2"
   ]
  },
  {
   "cell_type": "markdown",
   "metadata": {},
   "source": [
    "### Implemented Equations\n",
    "$p_t = p_{min}+(1-p_{min})[\\underset{y;h_i,h_j \\in H}{max}L(h_i(x),y)-L(h_j(x),y)]$\n",
    "\n",
    "where $p_{min}$ is a lower bound on the sampling probability"
   ]
  },
  {
   "cell_type": "code",
   "execution_count": 6,
   "metadata": {},
   "outputs": [],
   "source": [
    "# implemented in custom Python package iwal_functions"
   ]
  },
  {
   "cell_type": "markdown",
   "metadata": {},
   "source": [
    "## Part 2.4 Organize all implemented parts into a single pipeline\n",
    "You implemented all parts of the IWAL algorithm with bootstrap rejection sampling. Now organize it into a pipeline."
   ]
  },
  {
   "cell_type": "code",
   "execution_count": 7,
   "metadata": {
    "scrolled": false
   },
   "outputs": [
    {
     "name": "stdout",
     "output_type": "stream",
     "text": [
      "length of selected is 11\n",
      "selected model is [[ 0.38064513 -1.14917758]] [0.89554933] \n",
      "\n",
      "length of selected is 11\n",
      "selected model is [[ 0.38064513 -1.14917758]] [0.89554933] \n",
      "\n",
      "length of selected is 12\n",
      "selected model is [[ 0.38064513 -1.14917758]] [0.89554933] \n",
      "\n",
      "length of selected is 12\n",
      "selected model is [[ 0.38064513 -1.14917758]] [0.89554933] \n",
      "\n",
      "length of selected is 13\n",
      "selected model is [[ 0.38064513 -1.14917758]] [0.89554933] \n",
      "\n",
      "length of selected is 14\n",
      "selected model is [[ 0.38064513 -1.14917758]] [0.89554933] \n",
      "\n",
      "length of selected is 15\n",
      "selected model is [[ 0.38064513 -1.14917758]] [0.89554933] \n",
      "\n",
      "length of selected is 15\n",
      "selected model is [[ 0.38064513 -1.14917758]] [0.89554933] \n",
      "\n",
      "length of selected is 16\n",
      "selected model is [[ 0.38064513 -1.14917758]] [0.89554933] \n",
      "\n",
      "length of selected is 17\n",
      "selected model is [[ 0.38064513 -1.14917758]] [0.89554933] \n",
      "\n",
      "CPU times: user 1.65 s, sys: 53.2 ms, total: 1.7 s\n",
      "Wall time: 1.68 s\n"
     ]
    }
   ],
   "source": [
    "%%time\n",
    "#?? remove from data after stream?\n",
    "#?? try implementing only the max difference as a normalized value\n",
    "import copy\n",
    "from packages.iwal import iwal  # my custom package\n",
    "\n",
    "# fill hypothesis_space\n",
    "H = []\n",
    "num_h = 10\n",
    "for i in range(num_h):\n",
    "    lr = LogisticRegression()\n",
    "    H.append(lr)\n",
    "\n",
    "# additional arguments\n",
    "bootstrap_size = 10\n",
    "labels = [0,1]\n",
    "p_min = 0.1  \n",
    "history = {'X': [],'y': [],'c': [],'Q': []}\n",
    "selected = []\n",
    "rejection_threshold = 'bootstrap'\n",
    "\n",
    "\n",
    "# copy data for use with this section\n",
    "X_train_iwal = copy.deepcopy(X_train)\n",
    "y_train_iwal = copy.deepcopy(y_train)\n",
    "\n",
    "# Perform queries and record loss\n",
    "losses = []\n",
    "n_query = 20 # first bootstrap_size queries are bootstrapping process\n",
    "for t in range(n_query):\n",
    "    \n",
    "    # select sample \n",
    "    idx = np.random.choice(X_train_iwal.shape[0], 1, replace=False)\n",
    "    x_t = X_train_iwal[idx].reshape(1,2)\n",
    "    y_t = y_train_iwal[idx].reshape(1,)\n",
    "    \n",
    "    # remove sample from stream\n",
    "    X_train_iwal, y_train_iwal = np.delete(X_train_iwal, idx, axis=0), np.delete(y_train_iwal, idx, axis=0)\n",
    "\n",
    "    # select optimal hypothesis\n",
    "    h_t = iwal.iwal_query(x_t,y_t,H,history,selected,labels,rejection_threshold,bootstrap_size,p_min)\n",
    "    \n",
    "    # calculate loss only for fitted models\n",
    "    if h_t:\n",
    "        print('selected model is',h_t.coef_, h_t.intercept_,'\\n')\n",
    "\n",
    "        # calculate loss and store for later\n",
    "        loss_t = log_loss(y_test, h_t.predict_proba(X_test)) \n",
    "        losses.append(loss_t)\n",
    "     "
   ]
  },
  {
   "cell_type": "code",
   "execution_count": 8,
   "metadata": {},
   "outputs": [],
   "source": [
    "# for t in range(n_query):\n",
    "#     print('X:', history['X'][t],'y:',history['y'][t],'c:',history['c'][t],'Q:',history['Q'][t])"
   ]
  },
  {
   "cell_type": "code",
   "execution_count": 9,
   "metadata": {},
   "outputs": [],
   "source": [
    "# plt.plot(losses)"
   ]
  },
  {
   "cell_type": "markdown",
   "metadata": {},
   "source": [
    "## Part 2.5 Compare results of Active Learning vs No Active Learning"
   ]
  },
  {
   "cell_type": "markdown",
   "metadata": {},
   "source": [
    "In this part you need to create object of the same scikit learning class and train it on randomly selected subset of data points and compare results of 2 classifiers. Comment on your observations"
   ]
  },
  {
   "cell_type": "code",
   "execution_count": 10,
   "metadata": {},
   "outputs": [],
   "source": [
    "# # Compare to no Active Learning setting\n",
    "# # ?? how much data to train it on? same as A.L.?\n",
    "\n",
    "# ## TODO: your code goes here\n",
    "# # select random training set\n",
    "# X_rand= X_train[:n_query]\n",
    "# y_rand = y_train[:n_query]\n",
    "\n",
    "# # train model\n",
    "# lr = LogisticRegression()\n",
    "# lr.fit(X_rand, y_rand)\n",
    "\n",
    "# offline_loss = log_loss(y_test, lr.predict_proba(X_test)) \n",
    "\n",
    "# print('Active Learning loss:', losses[-1])\n",
    "# print('Offline loss (no active learning):',offline_loss)"
   ]
  },
  {
   "cell_type": "markdown",
   "metadata": {},
   "source": [
    "### Comment on observations\n",
    "It appears that offline loss is less than active learning loss for a small sample size."
   ]
  }
 ],
 "metadata": {
  "kernelspec": {
   "display_name": "Python 3",
   "language": "python",
   "name": "python3"
  },
  "language_info": {
   "codemirror_mode": {
    "name": "ipython",
    "version": 3
   },
   "file_extension": ".py",
   "mimetype": "text/x-python",
   "name": "python",
   "nbconvert_exporter": "python",
   "pygments_lexer": "ipython3",
   "version": "3.6.12"
  }
 },
 "nbformat": 4,
 "nbformat_minor": 2
}
