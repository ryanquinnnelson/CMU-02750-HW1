{
 "cells": [
  {
   "cell_type": "markdown",
   "metadata": {},
   "source": [
    "# Question 2. IWAL algorithm implementation (50 points)"
   ]
  },
  {
   "cell_type": "markdown",
   "metadata": {},
   "source": [
    "The purpose of this question is to implement Importance Weighted Active Learning (IWAL) algorithm. For this question, you will not use modAL, but instead will implement IWAL routine from scratch using scikit-learn, NumPy and native Python. \n",
    "\n",
    "In this question, we will use a simple synthetic dataset for a binary classification problem. Each data point has only 2 features. The dataset is provided in 2 files -- “data_iwal.npy”, which contains features and “labels_iwal.npy”, which contains labels. \n",
    "\n",
    "For simplicity, you will implement bootstrapping rejection sampling subroutine with logistic regression and hinge loss.   "
   ]
  },
  {
   "cell_type": "markdown",
   "metadata": {},
   "source": [
    "𝐂𝐨𝐦𝐩𝐥𝐞𝐭𝐞 𝐭𝐡𝐞 𝐜𝐨𝐝𝐞 𝐮𝐧𝐝𝐞𝐫 ###𝐓𝐎 𝐃𝐎 𝐢𝐧 𝐞𝐚𝐜𝐡 𝐜𝐞𝐥𝐥 𝐚𝐧𝐝 𝐩𝐫𝐨𝐝𝐮𝐜𝐞 𝐭𝐡𝐞 𝐫𝐞𝐪𝐮𝐢𝐫𝐞𝐝 𝐩𝐥𝐨𝐭𝐬.  Feel free to define any helper functions as you see fit. You may import and use any modules in scikit-learn and NumPy to help with your implementations."
   ]
  },
  {
   "cell_type": "markdown",
   "metadata": {},
   "source": [
    "## Imports"
   ]
  },
  {
   "cell_type": "markdown",
   "metadata": {},
   "source": [
    "Here we import necessary modules. Feel free to add something else here if you need it!"
   ]
  },
  {
   "cell_type": "code",
   "execution_count": 1,
   "metadata": {},
   "outputs": [],
   "source": [
    "import matplotlib.pyplot as plt\n",
    "%matplotlib inline\n",
    "\n",
    "import numpy as np\n",
    "from sklearn.model_selection import train_test_split\n",
    "from sklearn.metrics import hinge_loss, log_loss\n",
    "from sklearn.linear_model import LogisticRegression"
   ]
  },
  {
   "cell_type": "markdown",
   "metadata": {},
   "source": [
    "## Reading data"
   ]
  },
  {
   "cell_type": "markdown",
   "metadata": {},
   "source": [
    "Here we read the data and split it into train and test datasets. Train will be used to train our classification model and test will be used to validate the performance, monitor overfitting and compare the results of the model trained with Active Learning with the ones of the model trained from scratch. We set aside 1/3 of the dataset for validation."
   ]
  },
  {
   "cell_type": "code",
   "execution_count": 2,
   "metadata": {},
   "outputs": [],
   "source": [
    "X = np.load(\"data/q2/data_iwal.npy\")\n",
    "y = np.load(\"data/q2/labels_iwal.npy\")"
   ]
  },
  {
   "cell_type": "code",
   "execution_count": 3,
   "metadata": {},
   "outputs": [],
   "source": [
    "X_train, X_test, y_train, y_test = train_test_split(X, y, test_size=0.33, random_state=42)"
   ]
  },
  {
   "cell_type": "code",
   "execution_count": 4,
   "metadata": {},
   "outputs": [
    {
     "name": "stdout",
     "output_type": "stream",
     "text": [
      "(134, 2)\n",
      "(134,)\n",
      "(66, 2)\n",
      "(66,)\n",
      "[[2.59193175 1.14706863]\n",
      " [1.7756532  1.15670278]]\n",
      "[1 1]\n"
     ]
    }
   ],
   "source": [
    "print(X_train.shape)\n",
    "print(y_train.shape)\n",
    "print(X_test.shape)\n",
    "print(y_test.shape)\n",
    "\n",
    "print(X[0:2])\n",
    "print(y[0:2])"
   ]
  },
  {
   "cell_type": "code",
   "execution_count": 31,
   "metadata": {},
   "outputs": [
    {
     "data": {
      "text/plain": [
       "array([1, 0, 0, 1, 1, 1, 0, 1, 1, 1, 1, 1, 1, 0, 1, 0, 0, 0, 0, 0, 1, 1,\n",
       "       1, 0, 1, 1, 1, 1, 1, 0, 0, 1, 0, 1, 1, 0, 0, 1, 1, 1, 1, 0, 0, 0,\n",
       "       0, 1, 1, 1, 0, 0, 0, 0, 0, 0, 1, 1, 0, 0, 1, 1, 0, 0, 1, 0, 0, 1])"
      ]
     },
     "execution_count": 31,
     "metadata": {},
     "output_type": "execute_result"
    }
   ],
   "source": [
    "lr = LogisticRegression().fit(X_train,y_train)\n",
    "lr.predict(X_test)"
   ]
  },
  {
   "cell_type": "code",
   "execution_count": 32,
   "metadata": {},
   "outputs": [
    {
     "data": {
      "text/plain": [
       "array([[9.84752005e-03, 9.90152480e-01],\n",
       "       [9.81714776e-01, 1.82852241e-02],\n",
       "       [9.99893900e-01, 1.06099698e-04],\n",
       "       [9.44992134e-03, 9.90550079e-01],\n",
       "       [2.80970174e-04, 9.99719030e-01],\n",
       "       [3.76861843e-03, 9.96231382e-01],\n",
       "       [9.93092609e-01, 6.90739085e-03],\n",
       "       [3.37688223e-04, 9.99662312e-01],\n",
       "       [9.77301111e-04, 9.99022699e-01],\n",
       "       [3.72250743e-03, 9.96277493e-01],\n",
       "       [1.00372007e-01, 8.99627993e-01],\n",
       "       [6.04001582e-03, 9.93959984e-01],\n",
       "       [4.85157010e-03, 9.95148430e-01],\n",
       "       [8.81976245e-01, 1.18023755e-01],\n",
       "       [5.49343178e-03, 9.94506568e-01],\n",
       "       [9.99427820e-01, 5.72179703e-04],\n",
       "       [9.98702473e-01, 1.29752680e-03],\n",
       "       [9.98035276e-01, 1.96472392e-03],\n",
       "       [9.99290314e-01, 7.09685867e-04],\n",
       "       [9.84535308e-01, 1.54646922e-02],\n",
       "       [2.93267103e-02, 9.70673290e-01],\n",
       "       [2.57042586e-03, 9.97429574e-01],\n",
       "       [2.02527261e-02, 9.79747274e-01],\n",
       "       [8.96509819e-01, 1.03490181e-01],\n",
       "       [1.79421507e-02, 9.82057849e-01],\n",
       "       [4.03738857e-03, 9.95962611e-01],\n",
       "       [1.84755339e-01, 8.15244661e-01],\n",
       "       [1.10848215e-02, 9.88915179e-01],\n",
       "       [2.30357596e-03, 9.97696424e-01],\n",
       "       [9.99828890e-01, 1.71110477e-04],\n",
       "       [9.98518821e-01, 1.48117943e-03],\n",
       "       [1.96249081e-03, 9.98037509e-01],\n",
       "       [9.49264138e-01, 5.07358623e-02],\n",
       "       [2.17118199e-03, 9.97828818e-01],\n",
       "       [3.49317617e-03, 9.96506824e-01],\n",
       "       [9.94618545e-01, 5.38145485e-03],\n",
       "       [9.13384840e-01, 8.66151599e-02],\n",
       "       [4.47311388e-03, 9.95526886e-01],\n",
       "       [3.85089995e-04, 9.99614910e-01],\n",
       "       [3.63780893e-01, 6.36219107e-01],\n",
       "       [1.10308233e-03, 9.98896918e-01],\n",
       "       [7.83116644e-01, 2.16883356e-01],\n",
       "       [9.97924402e-01, 2.07559811e-03],\n",
       "       [9.99104741e-01, 8.95259367e-04],\n",
       "       [9.89575665e-01, 1.04243354e-02],\n",
       "       [2.02529477e-02, 9.79747052e-01],\n",
       "       [6.33441849e-02, 9.36655815e-01],\n",
       "       [3.20715377e-03, 9.96792846e-01],\n",
       "       [9.85534428e-01, 1.44655722e-02],\n",
       "       [9.98362129e-01, 1.63787110e-03],\n",
       "       [9.99856841e-01, 1.43158512e-04],\n",
       "       [9.96623867e-01, 3.37613252e-03],\n",
       "       [9.89638323e-01, 1.03616772e-02],\n",
       "       [9.86542087e-01, 1.34579126e-02],\n",
       "       [1.91320010e-03, 9.98086800e-01],\n",
       "       [1.12321613e-02, 9.88767839e-01],\n",
       "       [9.95633361e-01, 4.36663852e-03],\n",
       "       [9.90024056e-01, 9.97594368e-03],\n",
       "       [1.12484337e-03, 9.98875157e-01],\n",
       "       [4.05979696e-02, 9.59402030e-01],\n",
       "       [9.36439165e-01, 6.35608355e-02],\n",
       "       [9.94459686e-01, 5.54031393e-03],\n",
       "       [9.56525966e-04, 9.99043474e-01],\n",
       "       [9.38508879e-01, 6.14911213e-02],\n",
       "       [9.90067675e-01, 9.93232458e-03],\n",
       "       [3.68726293e-03, 9.96312737e-01]])"
      ]
     },
     "execution_count": 32,
     "metadata": {},
     "output_type": "execute_result"
    }
   ],
   "source": [
    "lr.predict_proba(X_test)"
   ]
  },
  {
   "cell_type": "markdown",
   "metadata": {},
   "source": [
    "## Part 2.1\n",
    "Type your answers for the theoretical questions below."
   ]
  },
  {
   "cell_type": "markdown",
   "metadata": {},
   "source": [
    "1. What is the idea behind IWAL algorithm?\n",
    "\n",
    "**Your answer goes here**\n",
    "\n",
    "2. What are the assumptions made for the IWAL algorithm?\n",
    "\n",
    "**Your answer goes here**\n",
    "\n",
    "3. What are the pros and cons of IWAL algorithm?\n",
    "\n",
    "**Your answer goes here**"
   ]
  },
  {
   "cell_type": "markdown",
   "metadata": {},
   "source": [
    "## Part 2.2 Implement IWAL algorithm"
   ]
  },
  {
   "cell_type": "markdown",
   "metadata": {},
   "source": [
    "In this part you will implement a function that performs a single query of Algorithm 1 IWAL (subroutine rejection-sampling) from the paper. Below is the function description that you can follow in your implementation."
   ]
  },
  {
   "cell_type": "markdown",
   "metadata": {},
   "source": [
    "### Implemented Equations\n",
    "\n",
    "$h_t = \\underset{h \\in H}{argmin}\\sum_{(x,y,c)\\in S_t}c \\cdot l(h(x),y)$"
   ]
  },
  {
   "cell_type": "code",
   "execution_count": 5,
   "metadata": {},
   "outputs": [],
   "source": [
    "### TODO: Implement Algorithm 1 from the paper\n",
    "# implemented in custom Python package iwal_functions"
   ]
  },
  {
   "cell_type": "markdown",
   "metadata": {},
   "source": [
    "## Part 2.3 Implement bootstrapping rejection sampling subroutine\n",
    "In this part you will implement bootstrapping rejection sampling subroutine from the paper, section 7.2"
   ]
  },
  {
   "cell_type": "markdown",
   "metadata": {},
   "source": [
    "### Implemented Equations\n",
    "$p_t = p_{min}+(1-p_{min})[\\underset{y;h_i,h_j \\in H}{max}L(h_i(x),y)-L(h_j(x),y)]$\n",
    "\n",
    "where $p_{min}$ is a lower bound on the sampling probability"
   ]
  },
  {
   "cell_type": "code",
   "execution_count": 6,
   "metadata": {},
   "outputs": [],
   "source": [
    "# implemented in custom Python package iwal_functions"
   ]
  },
  {
   "cell_type": "code",
   "execution_count": 30,
   "metadata": {},
   "outputs": [
    {
     "data": {
      "text/plain": [
       "array([[0.42354956, 0.57645044]])"
      ]
     },
     "execution_count": 30,
     "metadata": {},
     "output_type": "execute_result"
    }
   ],
   "source": [
    "X = [[2.59193175, 1.14706863], [1.7756532, 1.15670278]]\n",
    "y = [1, 0]\n",
    "lr = LogisticRegression().fit(X, y)\n",
    "x = np.asarray([3,1])\n",
    "x = x.reshape(1, -1)\n",
    "\n",
    "\n",
    "lr.predict_proba(x)"
   ]
  },
  {
   "cell_type": "code",
   "execution_count": 39,
   "metadata": {},
   "outputs": [
    {
     "data": {
      "text/plain": [
       "(1, 2)"
      ]
     },
     "execution_count": 39,
     "metadata": {},
     "output_type": "execute_result"
    }
   ],
   "source": [
    "np.asarray([3, 1]).reshape(1, -1).shape"
   ]
  },
  {
   "cell_type": "markdown",
   "metadata": {},
   "source": [
    "## Part 2.4 Organize all implemented parts into a single pipeline\n",
    "You implemented all parts of the IWAL algorithm with bootstrap rejection sampling. Now organize it into a pipeline."
   ]
  },
  {
   "cell_type": "code",
   "execution_count": null,
   "metadata": {},
   "outputs": [],
   "source": [
    "#?? isn't initializing H creating n_h classifiers?\n",
    "#?? initialize history means to simply set up the empty dictionary?\n",
    "#?? need to fit models first? what data do I use?\n",
    "#?? don't understand bootstrapped data here\n",
    "#?? which loss function to use here? why is log_loss also imported?\n",
    "\n",
    "# create an initial training set\n",
    "n_initial = 10\n",
    "X_training, y_training = X_train[:n_initial], y_train[:n_initial]\n",
    "\n",
    "\n",
    "# Initialize history and H\n",
    "## TODO: your code here\n",
    "\n",
    "\n",
    "# Create n_h classifiers and train them on bootstrapped data (data is sampled with replacement)\n",
    "## TODO: your code goes here\n",
    "H = []\n",
    "n_h = 10\n",
    "for i in range(n_h):\n",
    "    lr = LogisticRegression()\n",
    "    lr.fit(X_training, y_training)\n",
    "    H.append(lr)\n",
    "\n",
    "    \n",
    "# initialize additional arguments\n",
    "history = {'X': [],'y': [],'c': [],'Q': []}\n",
    "selected = []\n",
    "labels = [0,1]\n",
    "p_min = 0.1  \n",
    "\n",
    "# format as required by bootstrap function\n",
    "bootstrap_arguments = {\n",
    "    'H': H,\n",
    "    'loss': hinge_loss,\n",
    "    'labels': labels,\n",
    "    'p_min': p_min\n",
    "}"
   ]
  },
  {
   "cell_type": "code",
   "execution_count": 21,
   "metadata": {},
   "outputs": [
    {
     "name": "stdout",
     "output_type": "stream",
     "text": [
      "CPU times: user 2.98 ms, sys: 3.27 ms, total: 6.25 ms\n",
      "Wall time: 4.71 ms\n"
     ]
    }
   ],
   "source": [
    "%%time\n",
    "\n",
    "# my custom package\n",
    "from packages.iwal import iwal_functions\n",
    "\n",
    "\n",
    "# Perform queries and record loss\n",
    "losses = []\n",
    "n_query = 50\n",
    "for t in range(n_query):\n",
    "    \n",
    "    ### TODO: your code goes here\n",
    "    # select sample\n",
    "    x_t = [[1,1]]     \n",
    "    y_t = 1\n",
    "    \n",
    "    \n",
    "    # derive optimal hypothesis\n",
    "    h_t = iwal_functions.iwal_query(x_t,\n",
    "                                    y_t,\n",
    "                                    selected,\n",
    "                                    iwal_functions.bootstrap, \n",
    "                                    history, \n",
    "                                    H, \n",
    "                                    hinge_loss, \n",
    "                                    labels, \n",
    "                                    bootstrap_arguments)\n",
    "    \n",
    "    \n",
    "    #?? why use predict_proba\n",
    "    # calculate loss and store for later\n",
    "    loss_t = log_loss(y_test, h_t.predict_proba(X_test)) \n",
    "    losses.append(loss_t)\n",
    "    "
   ]
  },
  {
   "cell_type": "code",
   "execution_count": null,
   "metadata": {},
   "outputs": [],
   "source": [
    "plt.plot(losses)"
   ]
  },
  {
   "cell_type": "markdown",
   "metadata": {},
   "source": [
    "## Part 2.5 Compare results of Active Learning vs No Active Learning"
   ]
  },
  {
   "cell_type": "markdown",
   "metadata": {},
   "source": [
    "In this part you need to create object of the same scikit learning class and train it on randomly selected subset of data points and compare results of 2 classifiers. Comment on your observations"
   ]
  },
  {
   "cell_type": "code",
   "execution_count": null,
   "metadata": {},
   "outputs": [],
   "source": [
    "# Compare to no Active Learning setting\n",
    "\n",
    "## TODO: your code goes here"
   ]
  },
  {
   "cell_type": "code",
   "execution_count": null,
   "metadata": {},
   "outputs": [],
   "source": []
  }
 ],
 "metadata": {
  "kernelspec": {
   "display_name": "Python 3",
   "language": "python",
   "name": "python3"
  },
  "language_info": {
   "codemirror_mode": {
    "name": "ipython",
    "version": 3
   },
   "file_extension": ".py",
   "mimetype": "text/x-python",
   "name": "python",
   "nbconvert_exporter": "python",
   "pygments_lexer": "ipython3",
   "version": "3.6.12"
  }
 },
 "nbformat": 4,
 "nbformat_minor": 2
}
